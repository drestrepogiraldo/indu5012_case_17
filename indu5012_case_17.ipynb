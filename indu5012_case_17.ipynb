{
 "cells": [
  {
   "cell_type": "markdown",
   "source": "# Case 17 - Tree-based methods - Part 2",
   "metadata": {
    "cell_id": "445572f6da7b48bbbe094bebfcab700d",
    "tags": [],
    "deepnote_cell_type": "markdown",
    "deepnote_cell_height": 82
   }
  },
  {
   "cell_type": "markdown",
   "source": "## Business Problem",
   "metadata": {
    "cell_id": "bb80a317ff7a4622bb86df0dd5428c1a",
    "tags": [],
    "deepnote_cell_type": "markdown",
    "deepnote_cell_height": 70
   }
  },
  {
   "cell_type": "markdown",
   "source": "You are an analyst at a Colombian EPS. This company has identified a lot of problems arising from people developing heart deseases. So, the company has decided to build a model capable of classifying the risk that a patient has of developing these deseases.",
   "metadata": {
    "cell_id": "63ed669f3e784b5f8b256751fa77ef66",
    "tags": [],
    "deepnote_cell_type": "markdown",
    "deepnote_cell_height": 97.171875
   }
  },
  {
   "cell_type": "markdown",
   "source": "### Packages Import",
   "metadata": {
    "cell_id": "1ffdd37c12864889b87d8fb1c4e5f727",
    "tags": [],
    "deepnote_cell_type": "markdown",
    "deepnote_cell_height": 62
   }
  },
  {
   "cell_type": "code",
   "metadata": {
    "cell_id": "2632d69c925b4a82a70e7a95fd55ab48",
    "tags": [],
    "deepnote_to_be_reexecuted": false,
    "source_hash": "4af37e1b",
    "execution_start": 1649092990169,
    "execution_millis": 2559,
    "deepnote_cell_type": "code",
    "deepnote_cell_height": 297
   },
   "source": "import pandas as pd\nimport numpy as np\n\nimport seaborn as sns\nimport matplotlib.pyplot as plt\n\nfrom sklearn.model_selection import train_test_split\nfrom sklearn.ensemble import BaggingClassifier,RandomForestClassifier,GradientBoostingClassifier\nfrom sklearn.model_selection import cross_val_score\nfrom sklearn.metrics import  RocCurveDisplay\nfrom sklearn.model_selection import GridSearchCV\nfrom sklearn.tree import DecisionTreeClassifier\nfrom sklearn.discriminant_analysis import LinearDiscriminantAnalysis",
   "outputs": [],
   "execution_count": null
  },
  {
   "cell_type": "markdown",
   "source": "### Data Import\n\nThe information was downloaded from a dataset available [online](https://biolincc.nhlbi.nih.gov/studies/framcohort/).",
   "metadata": {
    "cell_id": "d5a795878a4e4908bcdde8ad0ff12b7c",
    "tags": [],
    "deepnote_cell_type": "markdown",
    "deepnote_cell_height": 100.390625
   }
  },
  {
   "cell_type": "code",
   "metadata": {
    "cell_id": "27eff52aab9d4fab83ff7286b1a5ffde",
    "tags": [],
    "deepnote_to_be_reexecuted": false,
    "source_hash": "8a52a5c2",
    "execution_start": 1649092992728,
    "execution_millis": 8,
    "deepnote_cell_type": "code",
    "deepnote_cell_height": 428
   },
   "source": "df_heart_disease = pd.read_csv(r'./data/framingham.csv')\ndf_heart_disease.head(5)",
   "outputs": [
    {
     "output_type": "execute_result",
     "execution_count": 2,
     "data": {
      "application/vnd.deepnote.dataframe.v3+json": {
       "column_count": 16,
       "row_count": 5,
       "columns": [
        {
         "name": "male",
         "dtype": "int64",
         "stats": {
          "unique_count": 2,
          "nan_count": 0,
          "min": "0",
          "max": "1",
          "histogram": [
           {
            "bin_start": 0,
            "bin_end": 0.1,
            "count": 3
           },
           {
            "bin_start": 0.1,
            "bin_end": 0.2,
            "count": 0
           },
           {
            "bin_start": 0.2,
            "bin_end": 0.30000000000000004,
            "count": 0
           },
           {
            "bin_start": 0.30000000000000004,
            "bin_end": 0.4,
            "count": 0
           },
           {
            "bin_start": 0.4,
            "bin_end": 0.5,
            "count": 0
           },
           {
            "bin_start": 0.5,
            "bin_end": 0.6000000000000001,
            "count": 0
           },
           {
            "bin_start": 0.6000000000000001,
            "bin_end": 0.7000000000000001,
            "count": 0
           },
           {
            "bin_start": 0.7000000000000001,
            "bin_end": 0.8,
            "count": 0
           },
           {
            "bin_start": 0.8,
            "bin_end": 0.9,
            "count": 0
           },
           {
            "bin_start": 0.9,
            "bin_end": 1,
            "count": 2
           }
          ]
         }
        },
        {
         "name": "age",
         "dtype": "int64",
         "stats": {
          "unique_count": 4,
          "nan_count": 0,
          "min": "39",
          "max": "61",
          "histogram": [
           {
            "bin_start": 39,
            "bin_end": 41.2,
            "count": 1
           },
           {
            "bin_start": 41.2,
            "bin_end": 43.4,
            "count": 0
           },
           {
            "bin_start": 43.4,
            "bin_end": 45.6,
            "count": 0
           },
           {
            "bin_start": 45.6,
            "bin_end": 47.8,
            "count": 2
           },
           {
            "bin_start": 47.8,
            "bin_end": 50,
            "count": 1
           },
           {
            "bin_start": 50,
            "bin_end": 52.2,
            "count": 0
           },
           {
            "bin_start": 52.2,
            "bin_end": 54.400000000000006,
            "count": 0
           },
           {
            "bin_start": 54.400000000000006,
            "bin_end": 56.6,
            "count": 0
           },
           {
            "bin_start": 56.6,
            "bin_end": 58.8,
            "count": 0
           },
           {
            "bin_start": 58.8,
            "bin_end": 61,
            "count": 1
           }
          ]
         }
        },
        {
         "name": "education",
         "dtype": "float64",
         "stats": {
          "unique_count": 4,
          "nan_count": 0,
          "min": "1.0",
          "max": "4.0",
          "histogram": [
           {
            "bin_start": 1,
            "bin_end": 1.3,
            "count": 1
           },
           {
            "bin_start": 1.3,
            "bin_end": 1.6,
            "count": 0
           },
           {
            "bin_start": 1.6,
            "bin_end": 1.9,
            "count": 0
           },
           {
            "bin_start": 1.9,
            "bin_end": 2.2,
            "count": 1
           },
           {
            "bin_start": 2.2,
            "bin_end": 2.5,
            "count": 0
           },
           {
            "bin_start": 2.5,
            "bin_end": 2.8,
            "count": 0
           },
           {
            "bin_start": 2.8,
            "bin_end": 3.1,
            "count": 2
           },
           {
            "bin_start": 3.1,
            "bin_end": 3.4,
            "count": 0
           },
           {
            "bin_start": 3.4,
            "bin_end": 3.6999999999999997,
            "count": 0
           },
           {
            "bin_start": 3.6999999999999997,
            "bin_end": 4,
            "count": 1
           }
          ]
         }
        },
        {
         "name": "currentSmoker",
         "dtype": "int64",
         "stats": {
          "unique_count": 2,
          "nan_count": 0,
          "min": "0",
          "max": "1",
          "histogram": [
           {
            "bin_start": 0,
            "bin_end": 0.1,
            "count": 2
           },
           {
            "bin_start": 0.1,
            "bin_end": 0.2,
            "count": 0
           },
           {
            "bin_start": 0.2,
            "bin_end": 0.30000000000000004,
            "count": 0
           },
           {
            "bin_start": 0.30000000000000004,
            "bin_end": 0.4,
            "count": 0
           },
           {
            "bin_start": 0.4,
            "bin_end": 0.5,
            "count": 0
           },
           {
            "bin_start": 0.5,
            "bin_end": 0.6000000000000001,
            "count": 0
           },
           {
            "bin_start": 0.6000000000000001,
            "bin_end": 0.7000000000000001,
            "count": 0
           },
           {
            "bin_start": 0.7000000000000001,
            "bin_end": 0.8,
            "count": 0
           },
           {
            "bin_start": 0.8,
            "bin_end": 0.9,
            "count": 0
           },
           {
            "bin_start": 0.9,
            "bin_end": 1,
            "count": 3
           }
          ]
         }
        },
        {
         "name": "cigsPerDay",
         "dtype": "float64",
         "stats": {
          "unique_count": 4,
          "nan_count": 0,
          "min": "0.0",
          "max": "30.0",
          "histogram": [
           {
            "bin_start": 0,
            "bin_end": 3,
            "count": 2
           },
           {
            "bin_start": 3,
            "bin_end": 6,
            "count": 0
           },
           {
            "bin_start": 6,
            "bin_end": 9,
            "count": 0
           },
           {
            "bin_start": 9,
            "bin_end": 12,
            "count": 0
           },
           {
            "bin_start": 12,
            "bin_end": 15,
            "count": 0
           },
           {
            "bin_start": 15,
            "bin_end": 18,
            "count": 0
           },
           {
            "bin_start": 18,
            "bin_end": 21,
            "count": 1
           },
           {
            "bin_start": 21,
            "bin_end": 24,
            "count": 1
           },
           {
            "bin_start": 24,
            "bin_end": 27,
            "count": 0
           },
           {
            "bin_start": 27,
            "bin_end": 30,
            "count": 1
           }
          ]
         }
        },
        {
         "name": "BPMeds",
         "dtype": "float64",
         "stats": {
          "unique_count": 1,
          "nan_count": 0,
          "min": "0.0",
          "max": "0.0",
          "histogram": [
           {
            "bin_start": -0.5,
            "bin_end": -0.4,
            "count": 0
           },
           {
            "bin_start": -0.4,
            "bin_end": -0.3,
            "count": 0
           },
           {
            "bin_start": -0.3,
            "bin_end": -0.19999999999999996,
            "count": 0
           },
           {
            "bin_start": -0.19999999999999996,
            "bin_end": -0.09999999999999998,
            "count": 0
           },
           {
            "bin_start": -0.09999999999999998,
            "bin_end": 0,
            "count": 0
           },
           {
            "bin_start": 0,
            "bin_end": 0.10000000000000009,
            "count": 5
           },
           {
            "bin_start": 0.10000000000000009,
            "bin_end": 0.20000000000000007,
            "count": 0
           },
           {
            "bin_start": 0.20000000000000007,
            "bin_end": 0.30000000000000004,
            "count": 0
           },
           {
            "bin_start": 0.30000000000000004,
            "bin_end": 0.4,
            "count": 0
           },
           {
            "bin_start": 0.4,
            "bin_end": 0.5,
            "count": 0
           }
          ]
         }
        },
        {
         "name": "prevalentStroke",
         "dtype": "int64",
         "stats": {
          "unique_count": 1,
          "nan_count": 0,
          "min": "0",
          "max": "0",
          "histogram": [
           {
            "bin_start": -0.5,
            "bin_end": -0.4,
            "count": 0
           },
           {
            "bin_start": -0.4,
            "bin_end": -0.3,
            "count": 0
           },
           {
            "bin_start": -0.3,
            "bin_end": -0.19999999999999996,
            "count": 0
           },
           {
            "bin_start": -0.19999999999999996,
            "bin_end": -0.09999999999999998,
            "count": 0
           },
           {
            "bin_start": -0.09999999999999998,
            "bin_end": 0,
            "count": 0
           },
           {
            "bin_start": 0,
            "bin_end": 0.10000000000000009,
            "count": 5
           },
           {
            "bin_start": 0.10000000000000009,
            "bin_end": 0.20000000000000007,
            "count": 0
           },
           {
            "bin_start": 0.20000000000000007,
            "bin_end": 0.30000000000000004,
            "count": 0
           },
           {
            "bin_start": 0.30000000000000004,
            "bin_end": 0.4,
            "count": 0
           },
           {
            "bin_start": 0.4,
            "bin_end": 0.5,
            "count": 0
           }
          ]
         }
        },
        {
         "name": "prevalentHyp",
         "dtype": "int64",
         "stats": {
          "unique_count": 2,
          "nan_count": 0,
          "min": "0",
          "max": "1",
          "histogram": [
           {
            "bin_start": 0,
            "bin_end": 0.1,
            "count": 4
           },
           {
            "bin_start": 0.1,
            "bin_end": 0.2,
            "count": 0
           },
           {
            "bin_start": 0.2,
            "bin_end": 0.30000000000000004,
            "count": 0
           },
           {
            "bin_start": 0.30000000000000004,
            "bin_end": 0.4,
            "count": 0
           },
           {
            "bin_start": 0.4,
            "bin_end": 0.5,
            "count": 0
           },
           {
            "bin_start": 0.5,
            "bin_end": 0.6000000000000001,
            "count": 0
           },
           {
            "bin_start": 0.6000000000000001,
            "bin_end": 0.7000000000000001,
            "count": 0
           },
           {
            "bin_start": 0.7000000000000001,
            "bin_end": 0.8,
            "count": 0
           },
           {
            "bin_start": 0.8,
            "bin_end": 0.9,
            "count": 0
           },
           {
            "bin_start": 0.9,
            "bin_end": 1,
            "count": 1
           }
          ]
         }
        },
        {
         "name": "diabetes",
         "dtype": "int64",
         "stats": {
          "unique_count": 1,
          "nan_count": 0,
          "min": "0",
          "max": "0",
          "histogram": [
           {
            "bin_start": -0.5,
            "bin_end": -0.4,
            "count": 0
           },
           {
            "bin_start": -0.4,
            "bin_end": -0.3,
            "count": 0
           },
           {
            "bin_start": -0.3,
            "bin_end": -0.19999999999999996,
            "count": 0
           },
           {
            "bin_start": -0.19999999999999996,
            "bin_end": -0.09999999999999998,
            "count": 0
           },
           {
            "bin_start": -0.09999999999999998,
            "bin_end": 0,
            "count": 0
           },
           {
            "bin_start": 0,
            "bin_end": 0.10000000000000009,
            "count": 5
           },
           {
            "bin_start": 0.10000000000000009,
            "bin_end": 0.20000000000000007,
            "count": 0
           },
           {
            "bin_start": 0.20000000000000007,
            "bin_end": 0.30000000000000004,
            "count": 0
           },
           {
            "bin_start": 0.30000000000000004,
            "bin_end": 0.4,
            "count": 0
           },
           {
            "bin_start": 0.4,
            "bin_end": 0.5,
            "count": 0
           }
          ]
         }
        },
        {
         "name": "totChol",
         "dtype": "float64",
         "stats": {
          "unique_count": 5,
          "nan_count": 0,
          "min": "195.0",
          "max": "285.0",
          "histogram": [
           {
            "bin_start": 195,
            "bin_end": 204,
            "count": 1
           },
           {
            "bin_start": 204,
            "bin_end": 213,
            "count": 0
           },
           {
            "bin_start": 213,
            "bin_end": 222,
            "count": 0
           },
           {
            "bin_start": 222,
            "bin_end": 231,
            "count": 1
           },
           {
            "bin_start": 231,
            "bin_end": 240,
            "count": 0
           },
           {
            "bin_start": 240,
            "bin_end": 249,
            "count": 1
           },
           {
            "bin_start": 249,
            "bin_end": 258,
            "count": 1
           },
           {
            "bin_start": 258,
            "bin_end": 267,
            "count": 0
           },
           {
            "bin_start": 267,
            "bin_end": 276,
            "count": 0
           },
           {
            "bin_start": 276,
            "bin_end": 285,
            "count": 1
           }
          ]
         }
        },
        {
         "name": "sysBP",
         "dtype": "float64",
         "stats": {
          "unique_count": 5,
          "nan_count": 0,
          "min": "106.0",
          "max": "150.0",
          "histogram": [
           {
            "bin_start": 106,
            "bin_end": 110.4,
            "count": 1
           },
           {
            "bin_start": 110.4,
            "bin_end": 114.8,
            "count": 0
           },
           {
            "bin_start": 114.8,
            "bin_end": 119.2,
            "count": 0
           },
           {
            "bin_start": 119.2,
            "bin_end": 123.6,
            "count": 1
           },
           {
            "bin_start": 123.6,
            "bin_end": 128,
            "count": 1
           },
           {
            "bin_start": 128,
            "bin_end": 132.4,
            "count": 1
           },
           {
            "bin_start": 132.4,
            "bin_end": 136.8,
            "count": 0
           },
           {
            "bin_start": 136.8,
            "bin_end": 141.2,
            "count": 0
           },
           {
            "bin_start": 141.2,
            "bin_end": 145.6,
            "count": 0
           },
           {
            "bin_start": 145.6,
            "bin_end": 150,
            "count": 1
           }
          ]
         }
        },
        {
         "name": "diaBP",
         "dtype": "float64",
         "stats": {
          "unique_count": 5,
          "nan_count": 0,
          "min": "70.0",
          "max": "95.0",
          "histogram": [
           {
            "bin_start": 70,
            "bin_end": 72.5,
            "count": 1
           },
           {
            "bin_start": 72.5,
            "bin_end": 75,
            "count": 0
           },
           {
            "bin_start": 75,
            "bin_end": 77.5,
            "count": 0
           },
           {
            "bin_start": 77.5,
            "bin_end": 80,
            "count": 0
           },
           {
            "bin_start": 80,
            "bin_end": 82.5,
            "count": 2
           },
           {
            "bin_start": 82.5,
            "bin_end": 85,
            "count": 1
           },
           {
            "bin_start": 85,
            "bin_end": 87.5,
            "count": 0
           },
           {
            "bin_start": 87.5,
            "bin_end": 90,
            "count": 0
           },
           {
            "bin_start": 90,
            "bin_end": 92.5,
            "count": 0
           },
           {
            "bin_start": 92.5,
            "bin_end": 95,
            "count": 1
           }
          ]
         }
        },
        {
         "name": "BMI",
         "dtype": "float64",
         "stats": {
          "unique_count": 5,
          "nan_count": 0,
          "min": "23.1",
          "max": "28.73",
          "histogram": [
           {
            "bin_start": 23.1,
            "bin_end": 23.663,
            "count": 1
           },
           {
            "bin_start": 23.663,
            "bin_end": 24.226000000000003,
            "count": 0
           },
           {
            "bin_start": 24.226000000000003,
            "bin_end": 24.789,
            "count": 0
           },
           {
            "bin_start": 24.789,
            "bin_end": 25.352,
            "count": 1
           },
           {
            "bin_start": 25.352,
            "bin_end": 25.915,
            "count": 0
           },
           {
            "bin_start": 25.915,
            "bin_end": 26.478,
            "count": 0
           },
           {
            "bin_start": 26.478,
            "bin_end": 27.041,
            "count": 1
           },
           {
            "bin_start": 27.041,
            "bin_end": 27.604,
            "count": 0
           },
           {
            "bin_start": 27.604,
            "bin_end": 28.167,
            "count": 0
           },
           {
            "bin_start": 28.167,
            "bin_end": 28.73,
            "count": 2
           }
          ]
         }
        },
        {
         "name": "heartRate",
         "dtype": "float64",
         "stats": {
          "unique_count": 5,
          "nan_count": 0,
          "min": "65.0",
          "max": "95.0",
          "histogram": [
           {
            "bin_start": 65,
            "bin_end": 68,
            "count": 1
           },
           {
            "bin_start": 68,
            "bin_end": 71,
            "count": 0
           },
           {
            "bin_start": 71,
            "bin_end": 74,
            "count": 0
           },
           {
            "bin_start": 74,
            "bin_end": 77,
            "count": 1
           },
           {
            "bin_start": 77,
            "bin_end": 80,
            "count": 0
           },
           {
            "bin_start": 80,
            "bin_end": 83,
            "count": 1
           },
           {
            "bin_start": 83,
            "bin_end": 86,
            "count": 1
           },
           {
            "bin_start": 86,
            "bin_end": 89,
            "count": 0
           },
           {
            "bin_start": 89,
            "bin_end": 92,
            "count": 0
           },
           {
            "bin_start": 92,
            "bin_end": 95,
            "count": 1
           }
          ]
         }
        },
        {
         "name": "glucose",
         "dtype": "float64",
         "stats": {
          "unique_count": 5,
          "nan_count": 0,
          "min": "70.0",
          "max": "103.0",
          "histogram": [
           {
            "bin_start": 70,
            "bin_end": 73.3,
            "count": 1
           },
           {
            "bin_start": 73.3,
            "bin_end": 76.6,
            "count": 1
           },
           {
            "bin_start": 76.6,
            "bin_end": 79.9,
            "count": 1
           },
           {
            "bin_start": 79.9,
            "bin_end": 83.2,
            "count": 0
           },
           {
            "bin_start": 83.2,
            "bin_end": 86.5,
            "count": 1
           },
           {
            "bin_start": 86.5,
            "bin_end": 89.8,
            "count": 0
           },
           {
            "bin_start": 89.8,
            "bin_end": 93.1,
            "count": 0
           },
           {
            "bin_start": 93.1,
            "bin_end": 96.4,
            "count": 0
           },
           {
            "bin_start": 96.4,
            "bin_end": 99.7,
            "count": 0
           },
           {
            "bin_start": 99.7,
            "bin_end": 103,
            "count": 1
           }
          ]
         }
        },
        {
         "name": "TenYearCHD",
         "dtype": "int64",
         "stats": {
          "unique_count": 2,
          "nan_count": 0,
          "min": "0",
          "max": "1",
          "histogram": [
           {
            "bin_start": 0,
            "bin_end": 0.1,
            "count": 4
           },
           {
            "bin_start": 0.1,
            "bin_end": 0.2,
            "count": 0
           },
           {
            "bin_start": 0.2,
            "bin_end": 0.30000000000000004,
            "count": 0
           },
           {
            "bin_start": 0.30000000000000004,
            "bin_end": 0.4,
            "count": 0
           },
           {
            "bin_start": 0.4,
            "bin_end": 0.5,
            "count": 0
           },
           {
            "bin_start": 0.5,
            "bin_end": 0.6000000000000001,
            "count": 0
           },
           {
            "bin_start": 0.6000000000000001,
            "bin_end": 0.7000000000000001,
            "count": 0
           },
           {
            "bin_start": 0.7000000000000001,
            "bin_end": 0.8,
            "count": 0
           },
           {
            "bin_start": 0.8,
            "bin_end": 0.9,
            "count": 0
           },
           {
            "bin_start": 0.9,
            "bin_end": 1,
            "count": 1
           }
          ]
         }
        },
        {
         "name": "_deepnote_index_column",
         "dtype": "int64"
        }
       ],
       "rows": [
        {
         "male": 1,
         "age": 39,
         "education": 4,
         "currentSmoker": 0,
         "cigsPerDay": 0,
         "BPMeds": 0,
         "prevalentStroke": 0,
         "prevalentHyp": 0,
         "diabetes": 0,
         "totChol": 195,
         "sysBP": 106,
         "diaBP": 70,
         "BMI": 26.97,
         "heartRate": 80,
         "glucose": 77,
         "TenYearCHD": 0,
         "_deepnote_index_column": 0
        },
        {
         "male": 0,
         "age": 46,
         "education": 2,
         "currentSmoker": 0,
         "cigsPerDay": 0,
         "BPMeds": 0,
         "prevalentStroke": 0,
         "prevalentHyp": 0,
         "diabetes": 0,
         "totChol": 250,
         "sysBP": 121,
         "diaBP": 81,
         "BMI": 28.73,
         "heartRate": 95,
         "glucose": 76,
         "TenYearCHD": 0,
         "_deepnote_index_column": 1
        },
        {
         "male": 1,
         "age": 48,
         "education": 1,
         "currentSmoker": 1,
         "cigsPerDay": 20,
         "BPMeds": 0,
         "prevalentStroke": 0,
         "prevalentHyp": 0,
         "diabetes": 0,
         "totChol": 245,
         "sysBP": 127.5,
         "diaBP": 80,
         "BMI": 25.34,
         "heartRate": 75,
         "glucose": 70,
         "TenYearCHD": 0,
         "_deepnote_index_column": 2
        },
        {
         "male": 0,
         "age": 61,
         "education": 3,
         "currentSmoker": 1,
         "cigsPerDay": 30,
         "BPMeds": 0,
         "prevalentStroke": 0,
         "prevalentHyp": 1,
         "diabetes": 0,
         "totChol": 225,
         "sysBP": 150,
         "diaBP": 95,
         "BMI": 28.58,
         "heartRate": 65,
         "glucose": 103,
         "TenYearCHD": 1,
         "_deepnote_index_column": 3
        },
        {
         "male": 0,
         "age": 46,
         "education": 3,
         "currentSmoker": 1,
         "cigsPerDay": 23,
         "BPMeds": 0,
         "prevalentStroke": 0,
         "prevalentHyp": 0,
         "diabetes": 0,
         "totChol": 285,
         "sysBP": 130,
         "diaBP": 84,
         "BMI": 23.1,
         "heartRate": 85,
         "glucose": 85,
         "TenYearCHD": 0,
         "_deepnote_index_column": 4
        }
       ]
      },
      "text/plain": "   male  age  education  currentSmoker  cigsPerDay  BPMeds  prevalentStroke  \\\n0     1   39        4.0              0         0.0     0.0                0   \n1     0   46        2.0              0         0.0     0.0                0   \n2     1   48        1.0              1        20.0     0.0                0   \n3     0   61        3.0              1        30.0     0.0                0   \n4     0   46        3.0              1        23.0     0.0                0   \n\n   prevalentHyp  diabetes  totChol  sysBP  diaBP    BMI  heartRate  glucose  \\\n0             0         0    195.0  106.0   70.0  26.97       80.0     77.0   \n1             0         0    250.0  121.0   81.0  28.73       95.0     76.0   \n2             0         0    245.0  127.5   80.0  25.34       75.0     70.0   \n3             1         0    225.0  150.0   95.0  28.58       65.0    103.0   \n4             0         0    285.0  130.0   84.0  23.10       85.0     85.0   \n\n   TenYearCHD  \n0           0  \n1           0  \n2           0  \n3           1  \n4           0  ",
      "text/html": "<div>\n<style scoped>\n    .dataframe tbody tr th:only-of-type {\n        vertical-align: middle;\n    }\n\n    .dataframe tbody tr th {\n        vertical-align: top;\n    }\n\n    .dataframe thead th {\n        text-align: right;\n    }\n</style>\n<table border=\"1\" class=\"dataframe\">\n  <thead>\n    <tr style=\"text-align: right;\">\n      <th></th>\n      <th>male</th>\n      <th>age</th>\n      <th>education</th>\n      <th>currentSmoker</th>\n      <th>cigsPerDay</th>\n      <th>BPMeds</th>\n      <th>prevalentStroke</th>\n      <th>prevalentHyp</th>\n      <th>diabetes</th>\n      <th>totChol</th>\n      <th>sysBP</th>\n      <th>diaBP</th>\n      <th>BMI</th>\n      <th>heartRate</th>\n      <th>glucose</th>\n      <th>TenYearCHD</th>\n    </tr>\n  </thead>\n  <tbody>\n    <tr>\n      <th>0</th>\n      <td>1</td>\n      <td>39</td>\n      <td>4.0</td>\n      <td>0</td>\n      <td>0.0</td>\n      <td>0.0</td>\n      <td>0</td>\n      <td>0</td>\n      <td>0</td>\n      <td>195.0</td>\n      <td>106.0</td>\n      <td>70.0</td>\n      <td>26.97</td>\n      <td>80.0</td>\n      <td>77.0</td>\n      <td>0</td>\n    </tr>\n    <tr>\n      <th>1</th>\n      <td>0</td>\n      <td>46</td>\n      <td>2.0</td>\n      <td>0</td>\n      <td>0.0</td>\n      <td>0.0</td>\n      <td>0</td>\n      <td>0</td>\n      <td>0</td>\n      <td>250.0</td>\n      <td>121.0</td>\n      <td>81.0</td>\n      <td>28.73</td>\n      <td>95.0</td>\n      <td>76.0</td>\n      <td>0</td>\n    </tr>\n    <tr>\n      <th>2</th>\n      <td>1</td>\n      <td>48</td>\n      <td>1.0</td>\n      <td>1</td>\n      <td>20.0</td>\n      <td>0.0</td>\n      <td>0</td>\n      <td>0</td>\n      <td>0</td>\n      <td>245.0</td>\n      <td>127.5</td>\n      <td>80.0</td>\n      <td>25.34</td>\n      <td>75.0</td>\n      <td>70.0</td>\n      <td>0</td>\n    </tr>\n    <tr>\n      <th>3</th>\n      <td>0</td>\n      <td>61</td>\n      <td>3.0</td>\n      <td>1</td>\n      <td>30.0</td>\n      <td>0.0</td>\n      <td>0</td>\n      <td>1</td>\n      <td>0</td>\n      <td>225.0</td>\n      <td>150.0</td>\n      <td>95.0</td>\n      <td>28.58</td>\n      <td>65.0</td>\n      <td>103.0</td>\n      <td>1</td>\n    </tr>\n    <tr>\n      <th>4</th>\n      <td>0</td>\n      <td>46</td>\n      <td>3.0</td>\n      <td>1</td>\n      <td>23.0</td>\n      <td>0.0</td>\n      <td>0</td>\n      <td>0</td>\n      <td>0</td>\n      <td>285.0</td>\n      <td>130.0</td>\n      <td>84.0</td>\n      <td>23.10</td>\n      <td>85.0</td>\n      <td>85.0</td>\n      <td>0</td>\n    </tr>\n  </tbody>\n</table>\n</div>"
     },
     "metadata": {}
    }
   ],
   "execution_count": null
  },
  {
   "cell_type": "markdown",
   "source": "### EDA and Data Cleaning",
   "metadata": {
    "cell_id": "66add122a52647ba8bb74134090e027a",
    "tags": [],
    "deepnote_cell_type": "markdown",
    "deepnote_cell_height": 62
   }
  },
  {
   "cell_type": "code",
   "metadata": {
    "cell_id": "0e73441c52ec42eda0ff57082790fda7",
    "tags": [],
    "deepnote_to_be_reexecuted": false,
    "source_hash": "2bb04b6c",
    "execution_start": 1649092992729,
    "execution_millis": 10,
    "deepnote_cell_type": "code",
    "deepnote_cell_height": 153
   },
   "source": "#Droping education column\ndf_heart_disease.drop(columns='education',inplace=True)\n\n#Droping the observations that have at least one missing value\ndf_heart_disease.dropna(axis=0,inplace=True)",
   "outputs": [],
   "execution_count": null
  },
  {
   "cell_type": "code",
   "metadata": {
    "cell_id": "81775340aa0e402ca779190490332f04",
    "tags": [],
    "deepnote_to_be_reexecuted": false,
    "source_hash": "ad9b896d",
    "execution_start": 1649092992740,
    "execution_millis": 4328,
    "deepnote_cell_type": "code",
    "deepnote_cell_height": 4536,
    "deepnote_output_heights": [
     264,
     264,
     267,
     264,
     264,
     264,
     264,
     264,
     264,
     267,
     264,
     264,
     264,
     267,
     264
    ]
   },
   "source": "for column in df_heart_disease.columns:\n    sns.histplot(x= column,data = df_heart_disease)\n    plt.show()",
   "outputs": [
    {
     "data": {
      "text/plain": "<Figure size 432x288 with 1 Axes>",
      "image/png": "[encoded data removed]"
     },
     "metadata": {
      "needs_background": "light",
      "image/png": {
       "width": 395,
       "height": 262
      }
     },
     "output_type": "display_data"
    },
    {
     "data": {
      "text/plain": "<Figure size 432x288 with 1 Axes>",
      "image/png": "[encoded data removed]"
     },
     "metadata": {
      "needs_background": "light",
      "image/png": {
       "width": 389,
       "height": 262
      }
     },
     "output_type": "display_data"
    },
    {
     "data": {
      "text/plain": "<Figure size 432x288 with 1 Axes>",
      "image/png": "[encoded data removed]"
     },
     "metadata": {
      "needs_background": "light",
      "image/png": {
       "width": 395,
       "height": 265
      }
     },
     "output_type": "display_data"
    },
    {
     "data": {
      "text/plain": "<Figure size 432x288 with 1 Axes>",
      "image/png": "[encoded data removed]"
     },
     "metadata": {
      "needs_background": "light",
      "image/png": {
       "width": 395,
       "height": 262
      }
     },
     "output_type": "display_data"
    },
    {
     "data": {
      "text/plain": "<Figure size 432x288 with 1 Axes>",
      "image/png": "[encoded data removed]"
     },
     "metadata": {
      "needs_background": "light",
      "image/png": {
       "width": 395,
       "height": 262
      }
     },
     "output_type": "display_data"
    },
    {
     "data": {
      "text/plain": "<Figure size 432x288 with 1 Axes>",
      "image/png": "[encoded data removed]"
     },
     "metadata": {
      "needs_background": "light",
      "image/png": {
       "width": 395,
       "height": 262
      }
     },
     "output_type": "display_data"
    },
    {
     "data": {
      "text/plain": "<Figure size 432x288 with 1 Axes>",
      "image/png": "[encoded data removed]"
     },
     "metadata": {
      "needs_background": "light",
      "image/png": {
       "width": 395,
       "height": 262
      }
     },
     "output_type": "display_data"
    },
    {
     "data": {
      "text/plain": "<Figure size 432x288 with 1 Axes>",
      "image/png": "[encoded data removed]"
     },
     "metadata": {
      "needs_background": "light",
      "image/png": {
       "width": 395,
       "height": 262
      }
     },
     "output_type": "display_data"
    },
    {
     "data": {
      "text/plain": "<Figure size 432x288 with 1 Axes>",
      "image/png": "[encoded data removed]"
     },
     "metadata": {
      "needs_background": "light",
      "image/png": {
       "width": 389,
       "height": 262
      }
     },
     "output_type": "display_data"
    },
    {
     "data": {
      "text/plain": "<Figure size 432x288 with 1 Axes>",
      "image/png": "[encoded data removed]"
     },
     "metadata": {
      "needs_background": "light",
      "image/png": {
       "width": 390,
       "height": 265
      }
     },
     "output_type": "display_data"
    },
    {
     "data": {
      "text/plain": "<Figure size 432x288 with 1 Axes>",
      "image/png": "[encoded data removed]"
     },
     "metadata": {
      "needs_background": "light",
      "image/png": {
       "width": 389,
       "height": 262
      }
     },
     "output_type": "display_data"
    },
    {
     "data": {
      "text/plain": "<Figure size 432x288 with 1 Axes>",
      "image/png": "[encoded data removed]"
     },
     "metadata": {
      "needs_background": "light",
      "image/png": {
       "width": 389,
       "height": 262
      }
     },
     "output_type": "display_data"
    },
    {
     "data": {
      "text/plain": "<Figure size 432x288 with 1 Axes>",
      "image/png": "[encoded data removed]"
     },
     "metadata": {
      "needs_background": "light",
      "image/png": {
       "width": 389,
       "height": 262
      }
     },
     "output_type": "display_data"
    },
    {
     "data": {
      "text/plain": "<Figure size 432x288 with 1 Axes>",
      "image/png": "[encoded data removed]"
     },
     "metadata": {
      "needs_background": "light",
      "image/png": {
       "width": 389,
       "height": 265
      }
     },
     "output_type": "display_data"
    },
    {
     "data": {
      "text/plain": "<Figure size 432x288 with 1 Axes>",
      "image/png": "[encoded data removed]"
     },
     "metadata": {
      "needs_background": "light",
      "image/png": {
       "width": 395,
       "height": 262
      }
     },
     "output_type": "display_data"
    }
   ],
   "execution_count": null
  },
  {
   "cell_type": "code",
   "metadata": {
    "cell_id": "9a18d38c4257400691d4478fb5b656d0",
    "tags": [],
    "deepnote_to_be_reexecuted": false,
    "source_hash": "51f94a24",
    "execution_start": 1649092997111,
    "execution_millis": 11,
    "deepnote_cell_type": "code",
    "deepnote_cell_height": 500
   },
   "source": "df_heart_disease_No = df_heart_disease[df_heart_disease['TenYearCHD']==0].sample(n=600,random_state=2)\ndf_heart_disease_Yes = df_heart_disease[df_heart_disease['TenYearCHD']==1]\ndf_heart_disease_sample = pd.concat([df_heart_disease_No,df_heart_disease_Yes],axis=0)\ndf_heart_disease_sample = df_heart_disease_sample.sample(frac = 1)\ndf_heart_disease_sample.reset_index( drop=True, inplace=True)\ndf_heart_disease_sample.head(5)",
   "outputs": [
    {
     "output_type": "execute_result",
     "execution_count": 5,
     "data": {
      "application/vnd.deepnote.dataframe.v3+json": {
       "column_count": 15,
       "row_count": 5,
       "columns": [
        {
         "name": "male",
         "dtype": "int64",
         "stats": {
          "unique_count": 2,
          "nan_count": 0,
          "min": "0",
          "max": "1",
          "histogram": [
           {
            "bin_start": 0,
            "bin_end": 0.1,
            "count": 3
           },
           {
            "bin_start": 0.1,
            "bin_end": 0.2,
            "count": 0
           },
           {
            "bin_start": 0.2,
            "bin_end": 0.30000000000000004,
            "count": 0
           },
           {
            "bin_start": 0.30000000000000004,
            "bin_end": 0.4,
            "count": 0
           },
           {
            "bin_start": 0.4,
            "bin_end": 0.5,
            "count": 0
           },
           {
            "bin_start": 0.5,
            "bin_end": 0.6000000000000001,
            "count": 0
           },
           {
            "bin_start": 0.6000000000000001,
            "bin_end": 0.7000000000000001,
            "count": 0
           },
           {
            "bin_start": 0.7000000000000001,
            "bin_end": 0.8,
            "count": 0
           },
           {
            "bin_start": 0.8,
            "bin_end": 0.9,
            "count": 0
           },
           {
            "bin_start": 0.9,
            "bin_end": 1,
            "count": 2
           }
          ]
         }
        },
        {
         "name": "age",
         "dtype": "int64",
         "stats": {
          "unique_count": 5,
          "nan_count": 0,
          "min": "40",
          "max": "57",
          "histogram": [
           {
            "bin_start": 40,
            "bin_end": 41.7,
            "count": 1
           },
           {
            "bin_start": 41.7,
            "bin_end": 43.4,
            "count": 0
           },
           {
            "bin_start": 43.4,
            "bin_end": 45.1,
            "count": 0
           },
           {
            "bin_start": 45.1,
            "bin_end": 46.8,
            "count": 0
           },
           {
            "bin_start": 46.8,
            "bin_end": 48.5,
            "count": 0
           },
           {
            "bin_start": 48.5,
            "bin_end": 50.2,
            "count": 0
           },
           {
            "bin_start": 50.2,
            "bin_end": 51.9,
            "count": 1
           },
           {
            "bin_start": 51.9,
            "bin_end": 53.6,
            "count": 0
           },
           {
            "bin_start": 53.6,
            "bin_end": 55.3,
            "count": 1
           },
           {
            "bin_start": 55.3,
            "bin_end": 57,
            "count": 2
           }
          ]
         }
        },
        {
         "name": "currentSmoker",
         "dtype": "int64",
         "stats": {
          "unique_count": 1,
          "nan_count": 0,
          "min": "1",
          "max": "1",
          "histogram": [
           {
            "bin_start": 0.5,
            "bin_end": 0.6,
            "count": 0
           },
           {
            "bin_start": 0.6,
            "bin_end": 0.7,
            "count": 0
           },
           {
            "bin_start": 0.7,
            "bin_end": 0.8,
            "count": 0
           },
           {
            "bin_start": 0.8,
            "bin_end": 0.9,
            "count": 0
           },
           {
            "bin_start": 0.9,
            "bin_end": 1,
            "count": 0
           },
           {
            "bin_start": 1,
            "bin_end": 1.1,
            "count": 5
           },
           {
            "bin_start": 1.1,
            "bin_end": 1.2000000000000002,
            "count": 0
           },
           {
            "bin_start": 1.2000000000000002,
            "bin_end": 1.3,
            "count": 0
           },
           {
            "bin_start": 1.3,
            "bin_end": 1.4,
            "count": 0
           },
           {
            "bin_start": 1.4,
            "bin_end": 1.5,
            "count": 0
           }
          ]
         }
        },
        {
         "name": "cigsPerDay",
         "dtype": "float64",
         "stats": {
          "unique_count": 4,
          "nan_count": 0,
          "min": "6.0",
          "max": "43.0",
          "histogram": [
           {
            "bin_start": 6,
            "bin_end": 9.7,
            "count": 2
           },
           {
            "bin_start": 9.7,
            "bin_end": 13.4,
            "count": 0
           },
           {
            "bin_start": 13.4,
            "bin_end": 17.1,
            "count": 0
           },
           {
            "bin_start": 17.1,
            "bin_end": 20.8,
            "count": 0
           },
           {
            "bin_start": 20.8,
            "bin_end": 24.5,
            "count": 0
           },
           {
            "bin_start": 24.5,
            "bin_end": 28.200000000000003,
            "count": 0
           },
           {
            "bin_start": 28.200000000000003,
            "bin_end": 31.900000000000002,
            "count": 2
           },
           {
            "bin_start": 31.900000000000002,
            "bin_end": 35.6,
            "count": 0
           },
           {
            "bin_start": 35.6,
            "bin_end": 39.300000000000004,
            "count": 0
           },
           {
            "bin_start": 39.300000000000004,
            "bin_end": 43,
            "count": 1
           }
          ]
         }
        },
        {
         "name": "BPMeds",
         "dtype": "float64",
         "stats": {
          "unique_count": 1,
          "nan_count": 0,
          "min": "0.0",
          "max": "0.0",
          "histogram": [
           {
            "bin_start": -0.5,
            "bin_end": -0.4,
            "count": 0
           },
           {
            "bin_start": -0.4,
            "bin_end": -0.3,
            "count": 0
           },
           {
            "bin_start": -0.3,
            "bin_end": -0.19999999999999996,
            "count": 0
           },
           {
            "bin_start": -0.19999999999999996,
            "bin_end": -0.09999999999999998,
            "count": 0
           },
           {
            "bin_start": -0.09999999999999998,
            "bin_end": 0,
            "count": 0
           },
           {
            "bin_start": 0,
            "bin_end": 0.10000000000000009,
            "count": 5
           },
           {
            "bin_start": 0.10000000000000009,
            "bin_end": 0.20000000000000007,
            "count": 0
           },
           {
            "bin_start": 0.20000000000000007,
            "bin_end": 0.30000000000000004,
            "count": 0
           },
           {
            "bin_start": 0.30000000000000004,
            "bin_end": 0.4,
            "count": 0
           },
           {
            "bin_start": 0.4,
            "bin_end": 0.5,
            "count": 0
           }
          ]
         }
        },
        {
         "name": "prevalentStroke",
         "dtype": "int64",
         "stats": {
          "unique_count": 1,
          "nan_count": 0,
          "min": "0",
          "max": "0",
          "histogram": [
           {
            "bin_start": -0.5,
            "bin_end": -0.4,
            "count": 0
           },
           {
            "bin_start": -0.4,
            "bin_end": -0.3,
            "count": 0
           },
           {
            "bin_start": -0.3,
            "bin_end": -0.19999999999999996,
            "count": 0
           },
           {
            "bin_start": -0.19999999999999996,
            "bin_end": -0.09999999999999998,
            "count": 0
           },
           {
            "bin_start": -0.09999999999999998,
            "bin_end": 0,
            "count": 0
           },
           {
            "bin_start": 0,
            "bin_end": 0.10000000000000009,
            "count": 5
           },
           {
            "bin_start": 0.10000000000000009,
            "bin_end": 0.20000000000000007,
            "count": 0
           },
           {
            "bin_start": 0.20000000000000007,
            "bin_end": 0.30000000000000004,
            "count": 0
           },
           {
            "bin_start": 0.30000000000000004,
            "bin_end": 0.4,
            "count": 0
           },
           {
            "bin_start": 0.4,
            "bin_end": 0.5,
            "count": 0
           }
          ]
         }
        },
        {
         "name": "prevalentHyp",
         "dtype": "int64",
         "stats": {
          "unique_count": 2,
          "nan_count": 0,
          "min": "0",
          "max": "1",
          "histogram": [
           {
            "bin_start": 0,
            "bin_end": 0.1,
            "count": 2
           },
           {
            "bin_start": 0.1,
            "bin_end": 0.2,
            "count": 0
           },
           {
            "bin_start": 0.2,
            "bin_end": 0.30000000000000004,
            "count": 0
           },
           {
            "bin_start": 0.30000000000000004,
            "bin_end": 0.4,
            "count": 0
           },
           {
            "bin_start": 0.4,
            "bin_end": 0.5,
            "count": 0
           },
           {
            "bin_start": 0.5,
            "bin_end": 0.6000000000000001,
            "count": 0
           },
           {
            "bin_start": 0.6000000000000001,
            "bin_end": 0.7000000000000001,
            "count": 0
           },
           {
            "bin_start": 0.7000000000000001,
            "bin_end": 0.8,
            "count": 0
           },
           {
            "bin_start": 0.8,
            "bin_end": 0.9,
            "count": 0
           },
           {
            "bin_start": 0.9,
            "bin_end": 1,
            "count": 3
           }
          ]
         }
        },
        {
         "name": "diabetes",
         "dtype": "int64",
         "stats": {
          "unique_count": 1,
          "nan_count": 0,
          "min": "0",
          "max": "0",
          "histogram": [
           {
            "bin_start": -0.5,
            "bin_end": -0.4,
            "count": 0
           },
           {
            "bin_start": -0.4,
            "bin_end": -0.3,
            "count": 0
           },
           {
            "bin_start": -0.3,
            "bin_end": -0.19999999999999996,
            "count": 0
           },
           {
            "bin_start": -0.19999999999999996,
            "bin_end": -0.09999999999999998,
            "count": 0
           },
           {
            "bin_start": -0.09999999999999998,
            "bin_end": 0,
            "count": 0
           },
           {
            "bin_start": 0,
            "bin_end": 0.10000000000000009,
            "count": 5
           },
           {
            "bin_start": 0.10000000000000009,
            "bin_end": 0.20000000000000007,
            "count": 0
           },
           {
            "bin_start": 0.20000000000000007,
            "bin_end": 0.30000000000000004,
            "count": 0
           },
           {
            "bin_start": 0.30000000000000004,
            "bin_end": 0.4,
            "count": 0
           },
           {
            "bin_start": 0.4,
            "bin_end": 0.5,
            "count": 0
           }
          ]
         }
        },
        {
         "name": "totChol",
         "dtype": "float64",
         "stats": {
          "unique_count": 5,
          "nan_count": 0,
          "min": "162.0",
          "max": "320.0",
          "histogram": [
           {
            "bin_start": 162,
            "bin_end": 177.8,
            "count": 1
           },
           {
            "bin_start": 177.8,
            "bin_end": 193.6,
            "count": 0
           },
           {
            "bin_start": 193.6,
            "bin_end": 209.4,
            "count": 0
           },
           {
            "bin_start": 209.4,
            "bin_end": 225.2,
            "count": 1
           },
           {
            "bin_start": 225.2,
            "bin_end": 241,
            "count": 0
           },
           {
            "bin_start": 241,
            "bin_end": 256.8,
            "count": 0
           },
           {
            "bin_start": 256.8,
            "bin_end": 272.6,
            "count": 1
           },
           {
            "bin_start": 272.6,
            "bin_end": 288.4,
            "count": 1
           },
           {
            "bin_start": 288.4,
            "bin_end": 304.20000000000005,
            "count": 0
           },
           {
            "bin_start": 304.20000000000005,
            "bin_end": 320,
            "count": 1
           }
          ]
         }
        },
        {
         "name": "sysBP",
         "dtype": "float64",
         "stats": {
          "unique_count": 5,
          "nan_count": 0,
          "min": "129.0",
          "max": "207.5",
          "histogram": [
           {
            "bin_start": 129,
            "bin_end": 136.85,
            "count": 2
           },
           {
            "bin_start": 136.85,
            "bin_end": 144.7,
            "count": 1
           },
           {
            "bin_start": 144.7,
            "bin_end": 152.55,
            "count": 1
           },
           {
            "bin_start": 152.55,
            "bin_end": 160.4,
            "count": 0
           },
           {
            "bin_start": 160.4,
            "bin_end": 168.25,
            "count": 0
           },
           {
            "bin_start": 168.25,
            "bin_end": 176.1,
            "count": 0
           },
           {
            "bin_start": 176.1,
            "bin_end": 183.95,
            "count": 0
           },
           {
            "bin_start": 183.95,
            "bin_end": 191.8,
            "count": 0
           },
           {
            "bin_start": 191.8,
            "bin_end": 199.64999999999998,
            "count": 0
           },
           {
            "bin_start": 199.64999999999998,
            "bin_end": 207.5,
            "count": 1
           }
          ]
         }
        },
        {
         "name": "diaBP",
         "dtype": "float64",
         "stats": {
          "unique_count": 5,
          "nan_count": 0,
          "min": "75.0",
          "max": "118.0",
          "histogram": [
           {
            "bin_start": 75,
            "bin_end": 79.3,
            "count": 2
           },
           {
            "bin_start": 79.3,
            "bin_end": 83.6,
            "count": 0
           },
           {
            "bin_start": 83.6,
            "bin_end": 87.9,
            "count": 1
           },
           {
            "bin_start": 87.9,
            "bin_end": 92.2,
            "count": 1
           },
           {
            "bin_start": 92.2,
            "bin_end": 96.5,
            "count": 0
           },
           {
            "bin_start": 96.5,
            "bin_end": 100.8,
            "count": 0
           },
           {
            "bin_start": 100.8,
            "bin_end": 105.1,
            "count": 0
           },
           {
            "bin_start": 105.1,
            "bin_end": 109.4,
            "count": 0
           },
           {
            "bin_start": 109.4,
            "bin_end": 113.69999999999999,
            "count": 0
           },
           {
            "bin_start": 113.69999999999999,
            "bin_end": 118,
            "count": 1
           }
          ]
         }
        },
        {
         "name": "BMI",
         "dtype": "float64",
         "stats": {
          "unique_count": 5,
          "nan_count": 0,
          "min": "24.03",
          "max": "38.61",
          "histogram": [
           {
            "bin_start": 24.03,
            "bin_end": 25.488,
            "count": 3
           },
           {
            "bin_start": 25.488,
            "bin_end": 26.946,
            "count": 0
           },
           {
            "bin_start": 26.946,
            "bin_end": 28.404,
            "count": 0
           },
           {
            "bin_start": 28.404,
            "bin_end": 29.862000000000002,
            "count": 1
           },
           {
            "bin_start": 29.862000000000002,
            "bin_end": 31.32,
            "count": 0
           },
           {
            "bin_start": 31.32,
            "bin_end": 32.778,
            "count": 0
           },
           {
            "bin_start": 32.778,
            "bin_end": 34.236,
            "count": 0
           },
           {
            "bin_start": 34.236,
            "bin_end": 35.694,
            "count": 0
           },
           {
            "bin_start": 35.694,
            "bin_end": 37.152,
            "count": 0
           },
           {
            "bin_start": 37.152,
            "bin_end": 38.61,
            "count": 1
           }
          ]
         }
        },
        {
         "name": "heartRate",
         "dtype": "float64",
         "stats": {
          "unique_count": 5,
          "nan_count": 0,
          "min": "55.0",
          "max": "100.0",
          "histogram": [
           {
            "bin_start": 55,
            "bin_end": 59.5,
            "count": 1
           },
           {
            "bin_start": 59.5,
            "bin_end": 64,
            "count": 0
           },
           {
            "bin_start": 64,
            "bin_end": 68.5,
            "count": 0
           },
           {
            "bin_start": 68.5,
            "bin_end": 73,
            "count": 1
           },
           {
            "bin_start": 73,
            "bin_end": 77.5,
            "count": 1
           },
           {
            "bin_start": 77.5,
            "bin_end": 82,
            "count": 0
           },
           {
            "bin_start": 82,
            "bin_end": 86.5,
            "count": 0
           },
           {
            "bin_start": 86.5,
            "bin_end": 91,
            "count": 0
           },
           {
            "bin_start": 91,
            "bin_end": 95.5,
            "count": 1
           },
           {
            "bin_start": 95.5,
            "bin_end": 100,
            "count": 1
           }
          ]
         }
        },
        {
         "name": "glucose",
         "dtype": "float64",
         "stats": {
          "unique_count": 5,
          "nan_count": 0,
          "min": "73.0",
          "max": "98.0",
          "histogram": [
           {
            "bin_start": 73,
            "bin_end": 75.5,
            "count": 1
           },
           {
            "bin_start": 75.5,
            "bin_end": 78,
            "count": 0
           },
           {
            "bin_start": 78,
            "bin_end": 80.5,
            "count": 0
           },
           {
            "bin_start": 80.5,
            "bin_end": 83,
            "count": 0
           },
           {
            "bin_start": 83,
            "bin_end": 85.5,
            "count": 1
           },
           {
            "bin_start": 85.5,
            "bin_end": 88,
            "count": 1
           },
           {
            "bin_start": 88,
            "bin_end": 90.5,
            "count": 0
           },
           {
            "bin_start": 90.5,
            "bin_end": 93,
            "count": 1
           },
           {
            "bin_start": 93,
            "bin_end": 95.5,
            "count": 0
           },
           {
            "bin_start": 95.5,
            "bin_end": 98,
            "count": 1
           }
          ]
         }
        },
        {
         "name": "TenYearCHD",
         "dtype": "int64",
         "stats": {
          "unique_count": 2,
          "nan_count": 0,
          "min": "0",
          "max": "1",
          "histogram": [
           {
            "bin_start": 0,
            "bin_end": 0.1,
            "count": 3
           },
           {
            "bin_start": 0.1,
            "bin_end": 0.2,
            "count": 0
           },
           {
            "bin_start": 0.2,
            "bin_end": 0.30000000000000004,
            "count": 0
           },
           {
            "bin_start": 0.30000000000000004,
            "bin_end": 0.4,
            "count": 0
           },
           {
            "bin_start": 0.4,
            "bin_end": 0.5,
            "count": 0
           },
           {
            "bin_start": 0.5,
            "bin_end": 0.6000000000000001,
            "count": 0
           },
           {
            "bin_start": 0.6000000000000001,
            "bin_end": 0.7000000000000001,
            "count": 0
           },
           {
            "bin_start": 0.7000000000000001,
            "bin_end": 0.8,
            "count": 0
           },
           {
            "bin_start": 0.8,
            "bin_end": 0.9,
            "count": 0
           },
           {
            "bin_start": 0.9,
            "bin_end": 1,
            "count": 2
           }
          ]
         }
        },
        {
         "name": "_deepnote_index_column",
         "dtype": "int64"
        }
       ],
       "rows": [
        {
         "male": 1,
         "age": 54,
         "currentSmoker": 1,
         "cigsPerDay": 30,
         "BPMeds": 0,
         "prevalentStroke": 0,
         "prevalentHyp": 1,
         "diabetes": 0,
         "totChol": 267,
         "sysBP": 141.5,
         "diaBP": 91,
         "BMI": 25.36,
         "heartRate": 92,
         "glucose": 87,
         "TenYearCHD": 1,
         "_deepnote_index_column": 0
        },
        {
         "male": 0,
         "age": 51,
         "currentSmoker": 1,
         "cigsPerDay": 9,
         "BPMeds": 0,
         "prevalentStroke": 0,
         "prevalentHyp": 1,
         "diabetes": 0,
         "totChol": 320,
         "sysBP": 145,
         "diaBP": 85,
         "BMI": 24.03,
         "heartRate": 75,
         "glucose": 98,
         "TenYearCHD": 0,
         "_deepnote_index_column": 1
        },
        {
         "male": 0,
         "age": 57,
         "currentSmoker": 1,
         "cigsPerDay": 43,
         "BPMeds": 0,
         "prevalentStroke": 0,
         "prevalentHyp": 1,
         "diabetes": 0,
         "totChol": 283,
         "sysBP": 207.5,
         "diaBP": 118,
         "BMI": 38.61,
         "heartRate": 100,
         "glucose": 83,
         "TenYearCHD": 1,
         "_deepnote_index_column": 2
        },
        {
         "male": 0,
         "age": 56,
         "currentSmoker": 1,
         "cigsPerDay": 6,
         "BPMeds": 0,
         "prevalentStroke": 0,
         "prevalentHyp": 0,
         "diabetes": 0,
         "totChol": 217,
         "sysBP": 134,
         "diaBP": 75,
         "BMI": 29.59,
         "heartRate": 55,
         "glucose": 92,
         "TenYearCHD": 0,
         "_deepnote_index_column": 3
        },
        {
         "male": 1,
         "age": 40,
         "currentSmoker": 1,
         "cigsPerDay": 30,
         "BPMeds": 0,
         "prevalentStroke": 0,
         "prevalentHyp": 0,
         "diabetes": 0,
         "totChol": 162,
         "sysBP": 129,
         "diaBP": 76.5,
         "BMI": 24.12,
         "heartRate": 70,
         "glucose": 73,
         "TenYearCHD": 0,
         "_deepnote_index_column": 4
        }
       ]
      },
      "text/plain": "   male  age  currentSmoker  cigsPerDay  BPMeds  prevalentStroke  \\\n0     1   54              1        30.0     0.0                0   \n1     0   51              1         9.0     0.0                0   \n2     0   57              1        43.0     0.0                0   \n3     0   56              1         6.0     0.0                0   \n4     1   40              1        30.0     0.0                0   \n\n   prevalentHyp  diabetes  totChol  sysBP  diaBP    BMI  heartRate  glucose  \\\n0             1         0    267.0  141.5   91.0  25.36       92.0     87.0   \n1             1         0    320.0  145.0   85.0  24.03       75.0     98.0   \n2             1         0    283.0  207.5  118.0  38.61      100.0     83.0   \n3             0         0    217.0  134.0   75.0  29.59       55.0     92.0   \n4             0         0    162.0  129.0   76.5  24.12       70.0     73.0   \n\n   TenYearCHD  \n0           1  \n1           0  \n2           1  \n3           0  \n4           0  ",
      "text/html": "<div>\n<style scoped>\n    .dataframe tbody tr th:only-of-type {\n        vertical-align: middle;\n    }\n\n    .dataframe tbody tr th {\n        vertical-align: top;\n    }\n\n    .dataframe thead th {\n        text-align: right;\n    }\n</style>\n<table border=\"1\" class=\"dataframe\">\n  <thead>\n    <tr style=\"text-align: right;\">\n      <th></th>\n      <th>male</th>\n      <th>age</th>\n      <th>currentSmoker</th>\n      <th>cigsPerDay</th>\n      <th>BPMeds</th>\n      <th>prevalentStroke</th>\n      <th>prevalentHyp</th>\n      <th>diabetes</th>\n      <th>totChol</th>\n      <th>sysBP</th>\n      <th>diaBP</th>\n      <th>BMI</th>\n      <th>heartRate</th>\n      <th>glucose</th>\n      <th>TenYearCHD</th>\n    </tr>\n  </thead>\n  <tbody>\n    <tr>\n      <th>0</th>\n      <td>1</td>\n      <td>54</td>\n      <td>1</td>\n      <td>30.0</td>\n      <td>0.0</td>\n      <td>0</td>\n      <td>1</td>\n      <td>0</td>\n      <td>267.0</td>\n      <td>141.5</td>\n      <td>91.0</td>\n      <td>25.36</td>\n      <td>92.0</td>\n      <td>87.0</td>\n      <td>1</td>\n    </tr>\n    <tr>\n      <th>1</th>\n      <td>0</td>\n      <td>51</td>\n      <td>1</td>\n      <td>9.0</td>\n      <td>0.0</td>\n      <td>0</td>\n      <td>1</td>\n      <td>0</td>\n      <td>320.0</td>\n      <td>145.0</td>\n      <td>85.0</td>\n      <td>24.03</td>\n      <td>75.0</td>\n      <td>98.0</td>\n      <td>0</td>\n    </tr>\n    <tr>\n      <th>2</th>\n      <td>0</td>\n      <td>57</td>\n      <td>1</td>\n      <td>43.0</td>\n      <td>0.0</td>\n      <td>0</td>\n      <td>1</td>\n      <td>0</td>\n      <td>283.0</td>\n      <td>207.5</td>\n      <td>118.0</td>\n      <td>38.61</td>\n      <td>100.0</td>\n      <td>83.0</td>\n      <td>1</td>\n    </tr>\n    <tr>\n      <th>3</th>\n      <td>0</td>\n      <td>56</td>\n      <td>1</td>\n      <td>6.0</td>\n      <td>0.0</td>\n      <td>0</td>\n      <td>0</td>\n      <td>0</td>\n      <td>217.0</td>\n      <td>134.0</td>\n      <td>75.0</td>\n      <td>29.59</td>\n      <td>55.0</td>\n      <td>92.0</td>\n      <td>0</td>\n    </tr>\n    <tr>\n      <th>4</th>\n      <td>1</td>\n      <td>40</td>\n      <td>1</td>\n      <td>30.0</td>\n      <td>0.0</td>\n      <td>0</td>\n      <td>0</td>\n      <td>0</td>\n      <td>162.0</td>\n      <td>129.0</td>\n      <td>76.5</td>\n      <td>24.12</td>\n      <td>70.0</td>\n      <td>73.0</td>\n      <td>0</td>\n    </tr>\n  </tbody>\n</table>\n</div>"
     },
     "metadata": {}
    }
   ],
   "execution_count": null
  },
  {
   "cell_type": "code",
   "metadata": {
    "cell_id": "36f3f28804c1498cbce1a550fd01b6a0",
    "tags": [],
    "deepnote_to_be_reexecuted": false,
    "source_hash": "71aaa4e0",
    "execution_start": 1649092997128,
    "execution_millis": 364,
    "deepnote_cell_type": "code",
    "deepnote_cell_height": 413,
    "deepnote_output_heights": [
     21,
     264
    ]
   },
   "source": "sns.histplot(x= 'TenYearCHD',data = df_heart_disease_sample)",
   "outputs": [
    {
     "output_type": "execute_result",
     "execution_count": 6,
     "data": {
      "text/plain": "<AxesSubplot:xlabel='TenYearCHD', ylabel='Count'>"
     },
     "metadata": {}
    },
    {
     "data": {
      "text/plain": "<Figure size 432x288 with 1 Axes>",
      "image/png": "[encoded data removed]"
     },
     "metadata": {
      "needs_background": "light",
      "image/png": {
       "width": 389,
       "height": 262
      }
     },
     "output_type": "display_data"
    }
   ],
   "execution_count": null
  },
  {
   "cell_type": "markdown",
   "source": "### Train - Test Split",
   "metadata": {
    "cell_id": "051d7fb7feae497fb7ac5c61af08beb9",
    "tags": [],
    "deepnote_cell_type": "markdown",
    "deepnote_cell_height": 62
   }
  },
  {
   "cell_type": "code",
   "metadata": {
    "cell_id": "d0285a4a98ca4cab90dde30304c60b13",
    "tags": [],
    "deepnote_to_be_reexecuted": false,
    "source_hash": "7c6d68c1",
    "execution_start": 1649092997483,
    "execution_millis": 0,
    "deepnote_cell_type": "code",
    "deepnote_cell_height": 81
   },
   "source": "X_train, X_test, Y_train, Y_test = train_test_split(df_heart_disease_sample.drop(columns='TenYearCHD'), df_heart_disease_sample['TenYearCHD'] , test_size=0.5, random_state=0)",
   "outputs": [],
   "execution_count": null
  },
  {
   "cell_type": "markdown",
   "source": "## Bagging",
   "metadata": {
    "cell_id": "607cb2bbe073497c90ceb737baab3d84",
    "tags": [],
    "deepnote_cell_type": "markdown",
    "deepnote_cell_height": 70
   }
  },
  {
   "cell_type": "markdown",
   "source": "One of the problems that decision trees have is their high variance. Now, if we have $n$ random variables $Z_1$,$Z_2$, $...$, $Z_n$, each of them with a variance equal to $\\sigma^2$, then the average of those random variables $\\bar Z$ will have a variance equal to $\\sigma^2/n$. Then, by taking the average of a set of observations, variance can be reduced. Taking that into account, tha bagging method relies on creating multiple prediction models and then averaging their predictions in order to reduce the variance of the estimation.\n\nIn order to apply the bagging methods, $B$ different training sets should be used in order to create $B$ different estimation models $\\hat f_1(x)$,$\\hat f_2(x)$,$...$,$\\hat f_B(x)$. Then, the prediction given would be the average of the prediction given by the $B$ models. However, it is not easy to get many different training sets to fit all of the different models. On that account, to fit models using different training sets, the **bootstrap** method can be used to create different training sets by repeatedly taking samples from the original training set.\n\nWhile bagging can improve predictions for many regression and classification methods, it is particularly useful for decision trees. To apply bagging to regression trees, we simply construct B regression trees using B bootstrapped training sets, and average the resulting predictions. For classification problems, this averaging is made by majority vote; each tree classifies an observation and then this observation is classified as beign from the class that appeared the most in the trees' classification. The trees that are created for bagging are grown deep, and are not pruned. Hence each individual tree has high variance, but low bias. Averaging these B trees reduces the variance. Bagging has been demonstrated to give impressive improvements in accuracy by combining together hundreds or even thousands of trees into a single procedure.",
   "metadata": {
    "cell_id": "1485d9f2ee2141529d09bda73d4a0813",
    "tags": [],
    "deepnote_cell_type": "markdown",
    "deepnote_cell_height": 394.078125
   }
  },
  {
   "cell_type": "markdown",
   "source": "#### Bagging Fitting",
   "metadata": {
    "cell_id": "1005078c630a4cf3b9318aa419668c21",
    "tags": [],
    "deepnote_cell_type": "markdown",
    "deepnote_cell_height": 54
   }
  },
  {
   "cell_type": "code",
   "metadata": {
    "cell_id": "a4f1fe9ff7b24a669f55217b8967b700",
    "tags": [],
    "deepnote_to_be_reexecuted": false,
    "source_hash": "8003e559",
    "execution_start": 1649092997483,
    "execution_millis": 0,
    "deepnote_cell_type": "code",
    "deepnote_cell_height": 99
   },
   "source": "bc = BaggingClassifier()\nbc_res = bc.fit(X_train, Y_train)",
   "outputs": [],
   "execution_count": null
  },
  {
   "cell_type": "markdown",
   "source": "#### Bagging validation metrics",
   "metadata": {
    "cell_id": "58abba758359434b9e6255bd1fd568e6",
    "tags": [],
    "deepnote_cell_type": "markdown",
    "deepnote_cell_height": 54
   }
  },
  {
   "cell_type": "code",
   "metadata": {
    "cell_id": "cfd3ba7372dd4f83b041fe566a989b16",
    "tags": [],
    "deepnote_to_be_reexecuted": false,
    "source_hash": "fa1ddb50",
    "execution_start": 1649092997484,
    "execution_millis": 1113,
    "deepnote_cell_type": "code",
    "deepnote_cell_height": 336.9375
   },
   "source": "scores = cross_val_score(bc_res, X_train, Y_train, cv=10, scoring='accuracy')\nprint(scores)\nprint(\"Accuracy: \",scores.mean())\n\nscores = cross_val_score(bc_res,  X_train, Y_train, cv=10, scoring='recall')\nprint(\"Recall: \",scores.mean())\n\nscores = cross_val_score(bc_res,  X_train, Y_train, cv=10, scoring='roc_auc')\nprint(\"Roc_auc: \",scores.mean())",
   "outputs": [
    {
     "name": "stdout",
     "text": "[0.62711864 0.57627119 0.59322034 0.47457627 0.61016949 0.54237288\n 0.5862069  0.46551724 0.55172414 0.55172414]\nAccuracy:  0.5578901227352426\nRecall:  0.44523809523809516\nRoc_auc:  0.6055448882061786\n",
     "output_type": "stream"
    }
   ],
   "execution_count": null
  },
  {
   "cell_type": "markdown",
   "source": "#### Bagging Model Adjustments",
   "metadata": {
    "cell_id": "aba90b2d59454496a3acfbb3d6289a37",
    "tags": [],
    "deepnote_cell_type": "markdown",
    "deepnote_cell_height": 54
   }
  },
  {
   "cell_type": "code",
   "metadata": {
    "cell_id": "6819d6582f194b7bbbf5bde3f281d656",
    "tags": [],
    "deepnote_to_be_reexecuted": false,
    "source_hash": "79691848",
    "execution_start": 1649092998643,
    "execution_millis": 14622,
    "deepnote_cell_type": "code",
    "deepnote_cell_height": 294.375
   },
   "source": "bc = BaggingClassifier()\n\nparam_grid_bc = {'n_estimators': [10,20,50,100,150,200]}\n\ngrid_bc = GridSearchCV(bc, param_grid_bc, scoring='roc_auc', cv=10, n_jobs=-1)\n\ngrid_bc.fit(X_train, Y_train)\n\nprint(\"Best Bagging parameters: \",grid_bc.best_estimator_)\nprint('Best Baggin ROC_AUC score: %.3f' % np.abs(grid_bc.best_score_))",
   "outputs": [
    {
     "name": "stdout",
     "text": "Best Bagging parameters:  BaggingClassifier(n_estimators=50)\nBest Baggin ROC_AUC score: 0.639\n",
     "output_type": "stream"
    }
   ],
   "execution_count": null
  },
  {
   "cell_type": "markdown",
   "source": "#### Bagging Testing\n\n",
   "metadata": {
    "cell_id": "ca0e6a3a4e41448590b1f37816e897f0",
    "tags": [],
    "deepnote_cell_type": "markdown",
    "deepnote_cell_height": 54
   }
  },
  {
   "cell_type": "code",
   "metadata": {
    "cell_id": "c14c70db78c4409ca6c11c11922ce71d",
    "tags": [],
    "deepnote_to_be_reexecuted": false,
    "source_hash": "968f424e",
    "execution_start": 1649093013254,
    "execution_millis": 707,
    "deepnote_cell_type": "code",
    "deepnote_cell_height": 503,
    "deepnote_output_heights": [
     21,
     264
    ]
   },
   "source": "bc = BaggingClassifier(n_estimators=100)\nbc_res = bc.fit(X_train, Y_train)\n\nRocCurveDisplay.from_estimator(bc_res, X_test, Y_test)\nplt.plot([0, 1], [0, 1], color=\"red\", linestyle=\"--\")\n",
   "outputs": [
    {
     "output_type": "execute_result",
     "execution_count": 11,
     "data": {
      "text/plain": "[<matplotlib.lines.Line2D at 0x7f14a5995a90>]"
     },
     "metadata": {}
    },
    {
     "data": {
      "text/plain": "<Figure size 432x288 with 1 Axes>",
      "image/png": "[encoded data removed]"
     },
     "metadata": {
      "needs_background": "light",
      "image/png": {
       "width": 386,
       "height": 262
      }
     },
     "output_type": "display_data"
    }
   ],
   "execution_count": null
  },
  {
   "cell_type": "markdown",
   "source": "## Random Forest",
   "metadata": {
    "cell_id": "426ad4f46ce04c9bbb3a2965feb7e9f5",
    "tags": [],
    "deepnote_cell_type": "markdown",
    "deepnote_cell_height": 70
   }
  },
  {
   "cell_type": "markdown",
   "source": "Random forests are an improvement over bagging by making a small change that decorrelates the different decision trees. As in bagging, we build a number of decision trees on bootstrapped training samples. But when building these decision trees, each time a split in a tree is considered, a random sample of $p$ predictors is chosen as split candidates from the full set of $m$ predictors. The split is allowed to use only one of those $p$ predictors. A fresh sample of $p$ predictors is taken at each split, and typically we choose $p$ ≈ $\\sqrt m$, that is, the number of predictors considered at each split is approximately equal to the square root of the total number of predictors.\n\nWith these trick, the trees that are created will be very different, as each split of each tree will only consider a subset of predictors. If all of the trees that are created take into account all of the predictors in each split, those trees will be very similar, as the first splits will be made with the most relevant variables. Therefore, the trees generated by the bagging method will be higly correlated, and averaging higly correlated predictions does not reduce the variance of the prediction that much.",
   "metadata": {
    "cell_id": "5c16cd14f68e4d82a418af50c105bd8d",
    "tags": [],
    "deepnote_cell_type": "markdown",
    "deepnote_cell_height": 267.90625
   }
  },
  {
   "cell_type": "markdown",
   "source": "#### Random Forest Fitting",
   "metadata": {
    "cell_id": "d8523115e3b24ca99179b09b32a34ba5",
    "tags": [],
    "deepnote_cell_type": "markdown",
    "deepnote_cell_height": 54
   }
  },
  {
   "cell_type": "code",
   "metadata": {
    "cell_id": "4bc7b310e152471585f5d78e41e0a0bb",
    "tags": [],
    "deepnote_to_be_reexecuted": false,
    "source_hash": "94ee76d5",
    "execution_start": 1649093013965,
    "execution_millis": 176,
    "deepnote_cell_type": "code",
    "deepnote_cell_height": 99
   },
   "source": "rfc = RandomForestClassifier()\nrfc_res = rfc.fit(X_train, Y_train)",
   "outputs": [],
   "execution_count": null
  },
  {
   "cell_type": "markdown",
   "source": "#### Random Forest validation metrics",
   "metadata": {
    "cell_id": "9c57533c091d4447b8c3d99f33691863",
    "tags": [],
    "deepnote_cell_type": "markdown",
    "deepnote_cell_height": 54
   }
  },
  {
   "cell_type": "code",
   "metadata": {
    "cell_id": "88d0997e653a432c9c29f05a91dbe9ca",
    "tags": [],
    "deepnote_to_be_reexecuted": false,
    "source_hash": "9ce7cd77",
    "execution_start": 1649093014146,
    "execution_millis": 5983,
    "deepnote_cell_type": "code",
    "deepnote_cell_height": 337
   },
   "source": "scores = cross_val_score(rfc_res,  X_train, Y_train, cv=10, scoring='accuracy')\nprint(scores)\nprint(\"Accuracy: \",scores.mean())\n\nscores = cross_val_score(rfc_res,  X_train, Y_train, cv=10, scoring='recall')\nprint(\"Recall: \",scores.mean())\n\nscores = cross_val_score(rfc_res,  X_train, Y_train, cv=10, scoring='roc_auc')\nprint(\"Roc_auc: \",scores.mean())",
   "outputs": [
    {
     "name": "stdout",
     "text": "[0.57627119 0.62711864 0.6440678  0.55932203 0.72881356 0.66101695\n 0.55172414 0.53448276 0.53448276 0.63793103]\nAccuracy:  0.6055230859146697\nRecall:  0.5387566137566138\nRoc_auc:  0.6266726403823178\n",
     "output_type": "stream"
    }
   ],
   "execution_count": null
  },
  {
   "cell_type": "markdown",
   "source": "#### Random Forest Model Adjustments",
   "metadata": {
    "cell_id": "ec3ec2bcc45c42d88f9f5e259c2a60ac",
    "tags": [],
    "deepnote_cell_type": "markdown",
    "deepnote_cell_height": 54
   }
  },
  {
   "cell_type": "code",
   "metadata": {
    "cell_id": "5d97419347fd4d0faf12dec8c67bc072",
    "tags": [],
    "deepnote_to_be_reexecuted": false,
    "source_hash": "8c4afde2",
    "execution_start": 1649093019933,
    "execution_millis": 1099964,
    "deepnote_cell_type": "code",
    "deepnote_cell_height": 387
   },
   "source": "rfc = RandomForestClassifier()\n\nparam_grid_rfc = {'n_estimators': [10,20,50,100, 150, 200], \n    'max_depth': [80, 90, 100, 110],\n    'max_features': [2, 3, 4, 5],\n    'min_samples_leaf': [3, 4, 5],\n    'min_samples_split': [8, 10, 12]}\n\ngrid_rfc = GridSearchCV(rfc, param_grid_rfc, scoring='roc_auc', cv=10, n_jobs=-1)\n\ngrid_rfc.fit(X_train, Y_train)\n\nprint(\"Best Random Forest parameters: \",grid_rfc.best_estimator_)\nprint('Best Random Forest ROC_AUC score: %.3f' % np.abs(grid_rfc.best_score_))",
   "outputs": [
    {
     "name": "stdout",
     "text": "Best Random Forest parameters:  RandomForestClassifier(max_depth=80, max_features=2, min_samples_leaf=3,\n                       min_samples_split=12, n_estimators=50)\nBest Random Forest ROC_AUC score: 0.667\n",
     "output_type": "stream"
    }
   ],
   "execution_count": null
  },
  {
   "cell_type": "markdown",
   "source": "#### Random Forest Testing",
   "metadata": {
    "cell_id": "156631b8ba95472fa9e9aa75ee0a2104",
    "tags": [],
    "deepnote_cell_type": "markdown",
    "deepnote_cell_height": 54
   }
  },
  {
   "cell_type": "code",
   "metadata": {
    "cell_id": "78c73897999043fd8f462431dc555202",
    "tags": [],
    "deepnote_to_be_reexecuted": false,
    "source_hash": "4d06546",
    "execution_start": 1649094119897,
    "execution_millis": 708,
    "deepnote_cell_type": "code",
    "deepnote_cell_height": 485.1875,
    "deepnote_output_heights": [
     21.1875,
     264
    ]
   },
   "source": "rfc = RandomForestClassifier(max_depth=90, max_features=3, min_samples_leaf=5,min_samples_split=12)\nrfc_res = rfc.fit(X_train, Y_train)\n\nRocCurveDisplay.from_estimator(rfc_res, X_test, Y_test)\nplt.plot([0, 1], [0, 1], color=\"red\", linestyle=\"--\")",
   "outputs": [
    {
     "output_type": "execute_result",
     "execution_count": 15,
     "data": {
      "text/plain": "[<matplotlib.lines.Line2D at 0x7f14a5be2310>]"
     },
     "metadata": {}
    },
    {
     "data": {
      "text/plain": "<Figure size 432x288 with 1 Axes>",
      "image/png": "[encoded data removed]"
     },
     "metadata": {
      "needs_background": "light",
      "image/png": {
       "width": 386,
       "height": 262
      }
     },
     "output_type": "display_data"
    }
   ],
   "execution_count": null
  },
  {
   "cell_type": "markdown",
   "source": "## Boosting",
   "metadata": {
    "cell_id": "c49b423fe4e84ae4a5bcf9717ea8ac09",
    "tags": [],
    "deepnote_cell_type": "markdown",
    "deepnote_cell_height": 70
   }
  },
  {
   "cell_type": "markdown",
   "source": "Boosting is a method that can be used for many regression and classification models, however we will limit ourselves to talk about boosting when applied to decision trees. Boosting works in a similar way when compared to bagging as it creates different decision trees. However, boosting creates them in a sequential way, i.e. each tree is grown with information given from the previous tree that was created. Boosting does not involve bootstrap sampling; instead each\ntree is fit on a modified version of the original data set.\n\nUnlike fitting a single large decision tree to the data, which amounts to fitting the data hard and potentially overfitting, the boosting approach instead learns slowly by correcting the errors that the previous tree had.",
   "metadata": {
    "cell_id": "9c1ba892c26344d9944d33014c38d411",
    "tags": [],
    "deepnote_cell_type": "markdown",
    "deepnote_cell_height": 200.734375
   }
  },
  {
   "cell_type": "markdown",
   "source": "#### Boosting Fitting",
   "metadata": {
    "cell_id": "f184e247007b47d584ee9f188d8387b1",
    "tags": [],
    "deepnote_cell_type": "markdown",
    "deepnote_cell_height": 54
   }
  },
  {
   "cell_type": "code",
   "metadata": {
    "cell_id": "22f12eab61fa48d5ba683b4372fc2e37",
    "tags": [],
    "deepnote_to_be_reexecuted": false,
    "source_hash": "e82de662",
    "execution_start": 1649094120332,
    "execution_millis": 160,
    "deepnote_cell_type": "code",
    "deepnote_cell_height": 99
   },
   "source": "gbc = GradientBoostingClassifier()\ngbc_res = gbc.fit(X_train, Y_train)",
   "outputs": [],
   "execution_count": null
  },
  {
   "cell_type": "markdown",
   "source": "#### Boosting validation metrics",
   "metadata": {
    "cell_id": "0f107ec20a5d4a47ae5297078992bf92",
    "tags": [],
    "deepnote_cell_type": "markdown",
    "deepnote_cell_height": 54
   }
  },
  {
   "cell_type": "code",
   "metadata": {
    "cell_id": "7c1393dc7f8a4ffb911fe9497a374c58",
    "tags": [],
    "deepnote_to_be_reexecuted": false,
    "source_hash": "bcfebab5",
    "execution_start": 1649094120498,
    "execution_millis": 4602,
    "deepnote_cell_type": "code",
    "deepnote_cell_height": 337
   },
   "source": "scores = cross_val_score(gbc_res,  X_train, Y_train, cv=10, scoring='accuracy')\nprint(scores)\nprint(\"Accuracy: \",scores.mean())\n\nscores = cross_val_score(gbc_res, X_train, Y_train, cv=10, scoring='recall')\nprint(\"Recall: \",scores.mean())\n\nscores = cross_val_score(gbc_res,  X_train, Y_train, cv=10, scoring='roc_auc')\nprint(\"Roc_auc: \",scores.mean())",
   "outputs": [
    {
     "name": "stdout",
     "text": "[0.62711864 0.6779661  0.57627119 0.55932203 0.76271186 0.54237288\n 0.51724138 0.55172414 0.53448276 0.62068966]\nAccuracy:  0.596990064289889\nRecall:  0.5567460317460318\nRoc_auc:  0.6286140979689366\n",
     "output_type": "stream"
    }
   ],
   "execution_count": null
  },
  {
   "cell_type": "markdown",
   "source": "#### Boosting validation metrics",
   "metadata": {
    "cell_id": "1302329e83034e399c51a5154cf8efc3",
    "tags": [],
    "deepnote_cell_type": "markdown",
    "deepnote_cell_height": 54
   }
  },
  {
   "cell_type": "code",
   "metadata": {
    "cell_id": "2a5be25a7bd54dd28c07ff782d28bbec",
    "tags": [],
    "deepnote_to_be_reexecuted": false,
    "source_hash": "df199eb4",
    "execution_start": 1649094125105,
    "execution_millis": 3528169,
    "deepnote_cell_type": "code",
    "deepnote_cell_height": 369
   },
   "source": "gbc = GradientBoostingClassifier()\n\nparam_grid_gbc = {'n_estimators': [10,20,50,100, 150, 200], \n    'max_depth': [80, 90, 100, 110],\n    'max_features': [2, 3, 4, 5],\n    'learning_rate': np.linspace(0.001,0.2,10)}\n\ngrid_gbc = GridSearchCV(gbc, param_grid_gbc, scoring='roc_auc', cv=10, n_jobs=-1)\n\ngrid_gbc.fit(X_train, Y_train)\n\nprint(\"Best Boosting parameters: \",grid_gbc.best_estimator_)\nprint('Best Boosting ROC_AUC score: %.3f' % np.abs(grid_gbc.best_score_))",
   "outputs": [
    {
     "name": "stdout",
     "text": "Best Boosting parameters:  GradientBoostingClassifier(learning_rate=0.13366666666666668, max_depth=80,\n                           max_features=2, n_estimators=20)\nBest Boosting ROC_AUC score: 0.636\n",
     "output_type": "stream"
    }
   ],
   "execution_count": null
  },
  {
   "cell_type": "markdown",
   "source": "#### Boosting Testing",
   "metadata": {
    "cell_id": "bae48add3486410d949147ce2005528a",
    "tags": [],
    "deepnote_cell_type": "markdown",
    "deepnote_cell_height": 54
   }
  },
  {
   "cell_type": "code",
   "metadata": {
    "cell_id": "fab55a4a4cef4bbfad3650ea4c6ff33d",
    "tags": [],
    "deepnote_to_be_reexecuted": false,
    "source_hash": "ff058f02",
    "execution_start": 1649097652771,
    "execution_millis": 1000,
    "deepnote_cell_type": "code",
    "deepnote_cell_height": 216.1875,
    "deepnote_output_heights": [
     21.1875,
     264
    ]
   },
   "source": "gbc = GradientBoostingClassifier(learning_rate=0.13366666666666668, max_depth=110,max_features=2, n_estimators=200)\ngbc_res = gbc.fit(X_train, Y_train)\n\nRocCurveDisplay.from_estimator(gbc_res, X_test, Y_test)\nplt.plot([0, 1], [0, 1], color=\"red\", linestyle=\"--\")",
   "outputs": [
    {
     "output_type": "execute_result",
     "execution_count": 19,
     "data": {
      "text/plain": "[<matplotlib.lines.Line2D at 0x7f14ac13b550>]"
     },
     "metadata": {}
    },
    {
     "data": {
      "text/plain": "<Figure size 432x288 with 1 Axes>",
      "image/png": "[encoded data removed]"
     },
     "metadata": {
      "needs_background": "light",
      "image/png": {
       "width": 386,
       "height": 262
      }
     },
     "output_type": "display_data"
    }
   ],
   "execution_count": null
  },
  {
   "cell_type": "markdown",
   "source": "### Model Comparision",
   "metadata": {
    "cell_id": "408df1c8f0e1438b8b35b775e914005a",
    "tags": [],
    "deepnote_cell_type": "markdown",
    "deepnote_cell_height": 62
   }
  },
  {
   "cell_type": "code",
   "metadata": {
    "cell_id": "c428aa60a3e34258a0f39a86f27af595",
    "tags": [],
    "deepnote_to_be_reexecuted": false,
    "source_hash": "e7ef5eaa",
    "execution_start": 1649097653487,
    "execution_millis": 0,
    "deepnote_cell_type": "code",
    "deepnote_cell_height": 171
   },
   "source": "lda = LinearDiscriminantAnalysis(solver='lsqr')\nlda.fit(X_train,Y_train)\n\ndtc = DecisionTreeClassifier(criterion='entropy', max_depth=5)\ndtc_res = dtc.fit(X_train, Y_train)\n",
   "outputs": [],
   "execution_count": null
  },
  {
   "cell_type": "code",
   "metadata": {
    "cell_id": "7a4a6c3d0d3c497f9c14acbf170c1656",
    "tags": [],
    "deepnote_to_be_reexecuted": false,
    "source_hash": "32f33177",
    "execution_start": 1649097653487,
    "execution_millis": 958,
    "deepnote_cell_type": "code",
    "deepnote_cell_height": 1406.1875,
    "deepnote_output_heights": [
     21.1875,
     264,
     264,
     264,
     264
    ]
   },
   "source": "fig, ax = plt.subplots()\nRocCurveDisplay.from_estimator(dtc_res, X_test, Y_test, ax = ax)\nRocCurveDisplay.from_estimator(lda, X_test, Y_test,ax=ax)\nRocCurveDisplay.from_estimator(gbc_res, X_test, Y_test, ax = ax)\nRocCurveDisplay.from_estimator(rfc_res, X_test, Y_test, ax = ax)\nRocCurveDisplay.from_estimator(bc_res, X_test, Y_test, ax = ax)\nplt.plot([0, 1], [0, 1], color=\"red\", linestyle=\"--\")",
   "outputs": [
    {
     "output_type": "execute_result",
     "execution_count": 21,
     "data": {
      "text/plain": "[<matplotlib.lines.Line2D at 0x7f14a5bec1d0>]"
     },
     "metadata": {}
    },
    {
     "data": {
      "text/plain": "<Figure size 432x288 with 1 Axes>",
      "image/png": "[encoded data removed]"
     },
     "metadata": {
      "needs_background": "light",
      "image/png": {
       "width": 386,
       "height": 262
      }
     },
     "output_type": "display_data"
    }
   ],
   "execution_count": null
  },
  {
   "cell_type": "markdown",
   "source": "<a style='text-decoration:none;line-height:16px;display:flex;color:#5B5B62;padding:10px;justify-content:end;' href='https://deepnote.com?utm_source=created-in-deepnote-cell&projectId=96262903-a28f-4719-a328-dc59e3cfa77f' target=\"_blank\">\n<img alt='Created in deepnote.com' style='display:inline;max-height:16px;margin:0px;margin-right:7.5px;' src='data:image/svg+xml;base64,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' > </img>\nCreated in <span style='font-weight:600;margin-left:4px;'>Deepnote</span></a>",
   "metadata": {
    "tags": [],
    "created_in_deepnote_cell": true,
    "deepnote_cell_type": "markdown"
   }
  }
 ],
 "nbformat": 4,
 "nbformat_minor": 2,
 "metadata": {
  "orig_nbformat": 2,
  "deepnote": {
   "is_reactive": false
  },
  "deepnote_notebook_id": "cad520b7-b746-4320-a941-f618d46af822",
  "deepnote_execution_queue": []
 }
}